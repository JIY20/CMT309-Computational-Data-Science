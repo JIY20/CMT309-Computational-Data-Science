{
 "cells": [
  {
   "cell_type": "markdown",
   "metadata": {},
   "source": [
    "# Exploration of Edinburgh's rental market \n",
    "## Airbnb price prediction with Machine Learning.\n",
    "#### *Keywords: Airbnb, Point Patterns, Folium Map and More*"
   ]
  },
  {
   "cell_type": "markdown",
   "metadata": {},
   "source": [
    "As part of the IBM Data Science Professional Certificate, we get to have a go at our very own Data Science Capstone, where we get a taste of what is like to solve problems and answer questions like a data scientist. For my assignment, I decided to look into the relationship between the Airbnb (an internet marketplace for short-term home and apartment rentals) prices and its determinants, including features of the rental proximity to certain venues. The aim of the project is to develop a price prediction model. As prepared for the assingment, the current post goes through the project background, data collection and cleaning, analysis step by step. Code is made available through Github."
   ]
  },
  {
   "cell_type": "markdown",
   "metadata": {},
   "source": [
    "### 1. Project background and aim\n",
    "\n",
    " Airbnb is a internet marketplace for short-term home and apartment rentals. It allows you to, for example, rent out your home for a week while you’re away, or rent out your empty bedroom. One challenge that Airbnb hosts face is determining the optimal nightly rent price. In many areas, renters are presented with a good selection of listings and can filter by criteria like price, number of bedrooms, room type, and more. Since Airbnb is a market, the amount a host can charge is ultimately tied to market prices. The search experience on Airbnb looks like this: \n",
    " \n",
    "![alt text](Airbnb_sshot.png \"Airbnb Edinburgh Search Results\")\n",
    " \n",
    "Although Airbnb provides hosts with general guidance, there are no easy to access methods to determine the best price to rent out a space. There is third-party software available, but for a hefty price (see an example on available software, click [here](https://beyondpricing.com/)).\n",
    "\n",
    "One method could be to find a few listings that are similar to the place that will be up for rent, average the listed prices and set our price to this calculated average price. However, with the market being so dynamic, we would probably be looking to update the price regularly and this method can become tedious. \n",
    "\n",
    "Moreover, this may not be very accurate, as we are not taking into account other important factors that may give us a comparative advantage over other listings around us. This could be property characteristics such as number of rooms, bathrooms and extra services on offer. \n",
    "\n",
    "The aim of this project is to propose a data-driven solution, by using machine learning to predict rental price.\n",
    "\n",
    "For this project, a predictor based on space will be introduced to the model: the property's proximity to certain venues. This will allow the model to put an implicit price on things such as living close to a park or in a supermarket."
   ]
  },
  {
   "cell_type": "markdown",
   "metadata": {},
   "source": [
    "### 2. Data"
   ]
  },
  {
   "cell_type": "markdown",
   "metadata": {},
   "source": [
    "Airbnb does not release any data on the listings in its marketplace, a but separate group named [Inside Airbnb](http://insideairbnb.com/get-the-data.html) scrapes and compiles publicly available information about many cities Airbnb's listings from the Airbnb web-site. For this project, their data set scraped on July 21, 2019, on the city of Edinburgh, Scotland, will be used. It contains information on all Edinburgh Airbnb listings that were live on the site on that date (over 14,000). Here's a [direct link](http://insideairbnb.com/edinburgh/).\n",
    "\n",
    "The data has certain limitations. The most noticeable one is that it scrapes the advertised price rather than the actual price paid by previous customers. More accurate data is available for a fee in sites like [AirDNA](https://www.airdna.co/).\n",
    "\n",
    "Each row in the data set is a listing available for rental in Airbnb's site for the specific city (observations). The columns describe different characteristics of each listing (features).\n",
    "\n",
    "Some of the more important features this project will look into are the following: \n",
    "\n",
    "- accommodates: the number of guests the rental can accommodate\n",
    "- bedrooms: number of bedrooms included in the rental\n",
    "- bathrooms: number of bathrooms included in the rental\n",
    "- beds: number of beds included in the rental\n",
    "- price: nightly price for the rental\n",
    "- minimum_nights: minimum number of nights a guest can stay for the rental\n",
    "- maximum_nights: maximum number of nights a guest can stay for the rental\n",
    "- number_of_reviews: number of reviews that previous guests have left\n",
    "\n",
    "To model the spatial relationship between Airbnb rental prices and property proximity to certain venues, we will use the Foursquare API to access the city's venues."
   ]
  }
 ],
 "metadata": {
  "kernelspec": {
   "display_name": "Python",
   "language": "python",
   "name": "conda-env-python-py"
  },
  "language_info": {
   "codemirror_mode": {
    "name": "ipython",
    "version": 3
   },
   "file_extension": ".py",
   "mimetype": "text/x-python",
   "name": "python",
   "nbconvert_exporter": "python",
   "pygments_lexer": "ipython3",
   "version": "3.6.7"
  }
 },
 "nbformat": 4,
 "nbformat_minor": 4
}
